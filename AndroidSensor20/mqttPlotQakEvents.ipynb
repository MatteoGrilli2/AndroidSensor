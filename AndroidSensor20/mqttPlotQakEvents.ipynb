{
 "cells": [
  {
   "cell_type": "code",
   "execution_count": 1,
   "metadata": {},
   "outputs": [
    {
     "name": "stdout",
     "output_type": "stream",
     "text": [
      "Connected to broker:  localhost\n",
      "Subscribing to unibo/qak/events.\n",
      "Collecting values; please wait ...\n",
      "0  > evMsg= msg(androidsensor,event,android,none,androidsensor(stepcounter(61965.0)),4614)\n",
      "20  > evMsg= msg(androidsensor,event,android,none,androidsensor(stepcounter(62012.0)),4634)\n",
      "25  > evMsg= msg(androidsensor,event,android,none,androidsensor(stepcounter(62020.0)),4639)\n"
     ]
    },
    {
     "data": {
      "image/png": "[encoded data removed]",
      "text/plain": [
       "<Figure size 432x288 with 1 Axes>"
      ]
     },
     "metadata": {
      "needs_background": "light"
     },
     "output_type": "display_data"
    },
    {
     "name": "stdout",
     "output_type": "stream",
     "text": [
      "Done.\n"
     ]
    }
   ],
   "source": [
    "import time\n",
    "import paho.mqtt.client as paho\n",
    "import matplotlib.pyplot as plt\n",
    "import re\n",
    "\n",
    "# Configuration\n",
    "brokerAddr = \"localhost\"            # Mosquitto broker address\n",
    "clientName = \"mqttPlotQakEvents\"    # Name of the client displayed on mosquitto\n",
    "duration   = 30                     # Gather data for <duration> seconds\n",
    "eventName  = \"accelerometerlis3dh\"  # Name of the sensor to track (use the names found in the android application)\n",
    "N = 65                              # Number of messages to read from broker\n",
    "\n",
    "# Init\n",
    "goon     = True\n",
    "msgnum   = 0 \n",
    "x        = []\n",
    "y        = []\n",
    "z        = []\n",
    "\n",
    "\n",
    "def on_message(client, userdata, message) :   #define callback\n",
    "    global msgnum,  x,y,z, goon\n",
    "    if not goon :\n",
    "        return\n",
    "    # msg(androidSensor,event,android,none,androidSensor(sensorname(X,Y,Z)),MSGNUM)\n",
    "    # es. msg(androidSensor,event,gyroSender,none,androidSensor(accelerometerlis3dh(X,Y,Z)),MSGNUM)\n",
    "    # Note: stepcounter only has one field: msg(androidSensor,event,android,none,androidSensor(stepcounter(X)),MSGNUM)\n",
    "    evMsg = str( message.payload.decode(\"utf-8\")  )\n",
    "    msgitems = re.split(',|\\(|\\)', evMsg)\n",
    "    #msgitems = [\"msg\", \"androidSensor\", \"event\" , \n",
    "    #            \"android\", \"none\", \"androidSensor\",\n",
    "    #            \"accelerometerlis3dh\", \"X\", \"Y\", \"Z\", \"MSGNUM\"\n",
    "    if eventName == msgitems[6]  :\n",
    "        if msgnum < N  :\n",
    "            # Print some of the messages to check data\n",
    "            if msgnum % 20 == 0  :\n",
    "                print(msgnum, \" > evMsg=\", evMsg )\n",
    "            msgnum = msgnum + 1 \n",
    "            # If stepcounter, only append x, since y and z do not exist.\n",
    "            x.append( float( msgitems[7] ) )\n",
    "            if eventName != \"stepcounter\"  :\n",
    "                y.append( float( msgitems[8] ) )\n",
    "                z.append( float( msgitems[9] ) )\n",
    "        else  :\n",
    "            print(msgnum, \" > evMsg=\", evMsg )\n",
    "            # Comment and decomment to plot different values of the sensor\n",
    "            plt.plot(list(x), color='red\n",
    "            plt.plot(list(y), color='green')\n",
    "            plt.plot(list(z), color='blue')\n",
    "            plt.show()\n",
    "            goon = False\n",
    "            client.disconnect()\n",
    "    \n",
    "client= paho.Client(clientName)      \n",
    "client.on_message=on_message               # Bind function to callback\n",
    "\n",
    "client.connect(brokerAddr)                 #connect\n",
    "print(\"Connected to broker: \", brokerAddr)\n",
    "print(\"Subscribing to unibo/qak/events.\")\n",
    "client.subscribe(\"unibo/qak/events\")       #subscribe\n",
    "\n",
    "print(\"Collecting values; please wait ...\" )\n",
    "client.loop_start()                        #start loop to process received messages\n",
    "time.sleep(duration)\n",
    "client.disconnect()                        #disconnect\n",
    "print(\"Done.\")\n",
    "client.loop_stop()                         #stop loop"
   ]
  },
  {
   "cell_type": "code",
   "execution_count": null,
   "metadata": {},
   "outputs": [],
   "source": []
  },
  {
   "cell_type": "code",
   "execution_count": null,
   "metadata": {},
   "outputs": [],
   "source": []
  },
  {
   "cell_type": "code",
   "execution_count": null,
   "metadata": {},
   "outputs": [],
   "source": []
  }
 ],
 "metadata": {
  "kernelspec": {
   "display_name": "Python 3",
   "language": "python",
   "name": "python3"
  },
  "language_info": {
   "codemirror_mode": {
    "name": "ipython",
    "version": 3
   },
   "file_extension": ".py",
   "mimetype": "text/x-python",
   "name": "python",
   "nbconvert_exporter": "python",
   "pygments_lexer": "ipython3",
   "version": "3.7.4"
  }
 },
 "nbformat": 4,
 "nbformat_minor": 2
}
